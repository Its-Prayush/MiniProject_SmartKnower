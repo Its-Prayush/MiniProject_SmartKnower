{
  "nbformat": 4,
  "nbformat_minor": 0,
  "metadata": {
    "colab": {
      "name": "ImageClassification.ipynb",
      "provenance": [],
      "authorship_tag": "ABX9TyOEFNywYyh13EydRiFwmW15",
      "include_colab_link": true
    },
    "kernelspec": {
      "name": "python3",
      "display_name": "Python 3"
    },
    "language_info": {
      "name": "python"
    }
  },
  "cells": [
    {
      "cell_type": "markdown",
      "metadata": {
        "id": "view-in-github",
        "colab_type": "text"
      },
      "source": [
        "<a href=\"https://colab.research.google.com/github/Its-Prayush/MiniProject_SmartKnower/blob/main/ImageClassification.ipynb\" target=\"_parent\"><img src=\"https://colab.research.google.com/assets/colab-badge.svg\" alt=\"Open In Colab\"/></a>"
      ]
    },
    {
      "cell_type": "code",
      "metadata": {
        "colab": {
          "base_uri": "https://localhost:8080/"
        },
        "id": "eKD0xrh1uRvs",
        "outputId": "5f271dd3-4a23-45bd-b750-b57329e7c8ae"
      },
      "source": [
        "!pip install bing-image-downloader"
      ],
      "execution_count": 1,
      "outputs": [
        {
          "output_type": "stream",
          "text": [
            "Collecting bing-image-downloader\n",
            "  Downloading https://files.pythonhosted.org/packages/0d/bf/537a61030b84ae4cd5022d5c7b014fd9bc3ce7c02358919153a6658a61d3/bing_image_downloader-1.0.4-py3-none-any.whl\n",
            "Installing collected packages: bing-image-downloader\n",
            "Successfully installed bing-image-downloader-1.0.4\n"
          ],
          "name": "stdout"
        }
      ]
    },
    {
      "cell_type": "code",
      "metadata": {
        "id": "MkCWwa5mui-t"
      },
      "source": [
        "!mkdir image"
      ],
      "execution_count": 2,
      "outputs": []
    },
    {
      "cell_type": "code",
      "metadata": {
        "id": "OjNbYLT-w-xW",
        "colab": {
          "base_uri": "https://localhost:8080/"
        },
        "outputId": "7a7b1ba4-5b58-4123-a885-a1fc0b223cc2"
      },
      "source": [
        "from bing_image_downloader import downloader\n",
        "downloader.download(\"Table\", limit=30, output_dir='image')"
      ],
      "execution_count": 3,
      "outputs": [
        {
          "output_type": "stream",
          "text": [
            "\n",
            "\n",
            "[!!]Indexing page: 1\n",
            "\n",
            "[%] Indexed 12 Images on Page 1.\n",
            "\n",
            "===============================================\n",
            "\n",
            "[%] Downloading Image #1 from http://www.perfectwedding.me/wp-content/uploads/2013/03/gold-pebble-centerpieces.jpg\n",
            "[%] File Downloaded !\n",
            "\n",
            "[%] Downloading Image #2 from https://mykarmastream.com/wp-content/uploads/2017/11/feng-shui-entryway-2-.jpg\n",
            "[%] File Downloaded !\n",
            "\n",
            "[%] Downloading Image #3 from http://www.availableideas.com/wp-content/uploads/2015/11/Beautiful-Christmas-Centerpieces-20.jpg\n",
            "[%] File Downloaded !\n",
            "\n",
            "[%] Downloading Image #4 from http://myamazingthings.com/wp-content/uploads/2017/05/raw-wood-decor-11.jpg\n",
            "[%] File Downloaded !\n",
            "\n",
            "[%] Downloading Image #5 from https://cdn.architecturendesign.net/wp-content/uploads/2014/09/Top-Secret-Spots-For-Hidden-Storage-21.jpg\n",
            "[%] File Downloaded !\n",
            "\n",
            "[%] Downloading Image #6 from https://www.stylemotivation.com/wp-content/uploads/2013/11/Beautiful-Candle-Centerpiece-Ideas-9.jpg\n",
            "[%] File Downloaded !\n",
            "\n",
            "[%] Downloading Image #7 from https://babyshowerideas4u.com/wp-content/uploads/2016/07/Modern-Boho-Baby-Shower-Paper-Art.jpg\n",
            "[%] File Downloaded !\n",
            "\n",
            "[%] Downloading Image #8 from http://www.awesomeinventions.com/wp-content/uploads/2015/02/digital-map-d-d-above.jpg\n",
            "[%] File Downloaded !\n",
            "\n",
            "[%] Downloading Image #9 from http://rachelaclingen.com/wp-content/uploads/2016/05/metamorphosis-greek-church-toronto.jpg\n",
            "[%] File Downloaded !\n",
            "\n",
            "[%] Downloading Image #10 from http://www.archiscene.net/wp-content/uploads/2017/09/Bucharest-Penthouse-8-730x1109.jpg\n",
            "[%] File Downloaded !\n",
            "\n",
            "[%] Downloading Image #11 from https://www.deerpearlflowers.com/wp-content/uploads/2016/08/paper-napkin-folding-ideas.jpg\n",
            "[%] File Downloaded !\n",
            "\n",
            "[%] Downloading Image #12 from http://cdn.homesthetics.net/wp-content/uploads/2017/10/1.jpg\n",
            "[%] File Downloaded !\n",
            "\n",
            "\n",
            "\n",
            "[!!]Indexing page: 2\n",
            "\n",
            "[%] Indexed 12 Images on Page 2.\n",
            "\n",
            "===============================================\n",
            "\n",
            "[%] Downloading Image #13 from http://www.perfectwedding.me/wp-content/uploads/2013/03/gold-pebble-centerpieces.jpg\n",
            "[%] File Downloaded !\n",
            "\n",
            "[%] Downloading Image #14 from https://mykarmastream.com/wp-content/uploads/2017/11/feng-shui-entryway-2-.jpg\n",
            "[%] File Downloaded !\n",
            "\n",
            "[%] Downloading Image #15 from http://www.availableideas.com/wp-content/uploads/2015/11/Beautiful-Christmas-Centerpieces-20.jpg\n",
            "[%] File Downloaded !\n",
            "\n",
            "[%] Downloading Image #16 from http://myamazingthings.com/wp-content/uploads/2017/05/raw-wood-decor-11.jpg\n",
            "[%] File Downloaded !\n",
            "\n",
            "[%] Downloading Image #17 from https://cdn.architecturendesign.net/wp-content/uploads/2014/09/Top-Secret-Spots-For-Hidden-Storage-21.jpg\n",
            "[%] File Downloaded !\n",
            "\n",
            "[%] Downloading Image #18 from https://www.stylemotivation.com/wp-content/uploads/2013/11/Beautiful-Candle-Centerpiece-Ideas-9.jpg\n",
            "[%] File Downloaded !\n",
            "\n",
            "[%] Downloading Image #19 from https://babyshowerideas4u.com/wp-content/uploads/2016/07/Modern-Boho-Baby-Shower-Paper-Art.jpg\n",
            "[%] File Downloaded !\n",
            "\n",
            "[%] Downloading Image #20 from http://www.awesomeinventions.com/wp-content/uploads/2015/02/digital-map-d-d-above.jpg\n",
            "[%] File Downloaded !\n",
            "\n",
            "[%] Downloading Image #21 from http://rachelaclingen.com/wp-content/uploads/2016/05/metamorphosis-greek-church-toronto.jpg\n",
            "[%] File Downloaded !\n",
            "\n",
            "[%] Downloading Image #22 from http://www.archiscene.net/wp-content/uploads/2017/09/Bucharest-Penthouse-8-730x1109.jpg\n",
            "[%] File Downloaded !\n",
            "\n",
            "[%] Downloading Image #23 from https://www.deerpearlflowers.com/wp-content/uploads/2016/08/paper-napkin-folding-ideas.jpg\n",
            "[%] File Downloaded !\n",
            "\n",
            "[%] Downloading Image #24 from http://cdn.homesthetics.net/wp-content/uploads/2017/10/1.jpg\n",
            "[%] File Downloaded !\n",
            "\n",
            "\n",
            "\n",
            "[!!]Indexing page: 3\n",
            "\n",
            "[%] Indexed 11 Images on Page 3.\n",
            "\n",
            "===============================================\n",
            "\n",
            "[%] Downloading Image #25 from https://emmalovesweddings.com/wp-content/uploads/2019/04/chic-boho-greenery-white-and-black-wedding-table-setting-ideas.jpg\n",
            "[%] File Downloaded !\n",
            "\n",
            "[%] Downloading Image #26 from http://www.topdreamer.com/wp-content/uploads/2013/05/Outdoor-Fireplace-19.jpg\n",
            "[%] File Downloaded !\n",
            "\n",
            "[%] Downloading Image #27 from http://myamazingthings.com/wp-content/uploads/2017/03/3ab995f04aa6004f0ba33389ceafb5d1.jpg\n",
            "[%] File Downloaded !\n",
            "\n",
            "[%] Downloading Image #28 from https://cdn.architecturendesign.net/wp-content/uploads/2015/05/AD-Outdoor-Reclaimed-Wood-Projects-11.jpg\n",
            "[%] File Downloaded !\n",
            "\n",
            "[%] Downloading Image #29 from https://babyshowerideas4u.com/wp-content/uploads/2014/04/Jungle-Safari-Baby-Shower-ideas-co-baby-shower-ideas-great-first-birthday-party-ideas.jpg\n",
            "[%] File Downloaded !\n",
            "\n",
            "[%] Downloading Image #30 from https://ohbestdayever.com/wp-content/uploads/2018/04/modern-chic-wedding-centerpiece-ideas-with-geometric.jpg\n",
            "[%] File Downloaded !\n",
            "\n",
            "\n",
            "\n",
            "[%] Done. Downloaded 30 images.\n",
            "\n",
            "===============================================\n",
            "\n"
          ],
          "name": "stdout"
        }
      ]
    },
    {
      "cell_type": "code",
      "metadata": {
        "colab": {
          "base_uri": "https://localhost:8080/"
        },
        "id": "izR27NCuu5c3",
        "outputId": "fb821ce8-5f76-42aa-e36f-11b91312fbfe"
      },
      "source": [
        "from bing_image_downloader import downloader\n",
        "downloader.download(\"Posters\", limit=30, output_dir='image')"
      ],
      "execution_count": 4,
      "outputs": [
        {
          "output_type": "stream",
          "text": [
            "\n",
            "\n",
            "[!!]Indexing page: 1\n",
            "\n",
            "[%] Indexed 11 Images on Page 1.\n",
            "\n",
            "===============================================\n",
            "\n",
            "[%] Downloading Image #1 from http://www.newdvdreleasedates.com/images/posters/large/teenage-mutant-ninja-turtles-out-of-the-shadows-2016-03.jpg\n",
            "[%] File Downloaded !\n",
            "\n",
            "[%] Downloading Image #2 from http://www.movienewz.com/img/gallery/amazing-spiderman-2/posters/amazing_spider-man_2_movie_poster_3.jpg\n",
            "[%] File Downloaded !\n",
            "\n",
            "[%] Downloading Image #3 from https://theindianschool.in/web/wp-content/uploads/2013/10/Save-Girl-Child_7-225x300.jpg\n",
            "[%] File Downloaded !\n",
            "\n",
            "[%] Downloading Image #4 from http://www.movienewz.com/img/gallery/inside-out/posters/inside_out_character_poster_1.jpg\n",
            "[%] File Downloaded !\n",
            "\n",
            "[%] Downloading Image #5 from https://store.legendsofamerica.com/images/products/detail_6888_Arizona-11x17Poster-800.jpg\n",
            "[%] File Downloaded !\n",
            "\n",
            "[%] Downloading Image #6 from http://www.newdvdreleasedates.com/images/posters/large/blade-runner-2049-2017-21.jpg\n",
            "[%] File Downloaded !\n",
            "\n",
            "[%] Downloading Image #7 from https://i1.wp.com/fapservice.com/wp-content/uploads/2017/04/0004-2.jpg\n",
            "[%] File Downloaded !\n",
            "\n",
            "[%] Downloading Image #8 from http://www.movienewz.com/wp-content/uploads/2018/09/titans_poster-1.jpg\n",
            "[%] File Downloaded !\n",
            "\n",
            "[%] Downloading Image #9 from https://www.demilked.com/magazine/wp-content/uploads/2016/08/mars-recruitment-posters-nasa-2.jpg\n",
            "[%] File Downloaded !\n",
            "\n",
            "[%] Downloading Image #10 from http://www.movienewz.com/img/gallery/wild/posters/wild-movie-poster-1.jpg\n",
            "[%] File Downloaded !\n",
            "\n",
            "[%] Downloading Image #11 from http://www.newdvdreleasedates.com/images/posters/large/rio-2-2014-14.jpg\n",
            "[%] File Downloaded !\n",
            "\n",
            "\n",
            "\n",
            "[!!]Indexing page: 2\n",
            "\n",
            "[%] Indexed 11 Images on Page 2.\n",
            "\n",
            "===============================================\n",
            "\n",
            "[%] Downloading Image #12 from http://www.newdvdreleasedates.com/images/posters/large/teenage-mutant-ninja-turtles-out-of-the-shadows-2016-03.jpg\n",
            "[%] File Downloaded !\n",
            "\n",
            "[%] Downloading Image #13 from http://www.movienewz.com/img/gallery/amazing-spiderman-2/posters/amazing_spider-man_2_movie_poster_3.jpg\n",
            "[%] File Downloaded !\n",
            "\n",
            "[%] Downloading Image #14 from https://theindianschool.in/web/wp-content/uploads/2013/10/Save-Girl-Child_7-225x300.jpg\n",
            "[%] File Downloaded !\n",
            "\n",
            "[%] Downloading Image #15 from http://www.movienewz.com/img/gallery/inside-out/posters/inside_out_character_poster_1.jpg\n",
            "[%] File Downloaded !\n",
            "\n",
            "[%] Downloading Image #16 from https://store.legendsofamerica.com/images/products/detail_6888_Arizona-11x17Poster-800.jpg\n",
            "[%] File Downloaded !\n",
            "\n",
            "[%] Downloading Image #17 from http://www.newdvdreleasedates.com/images/posters/large/blade-runner-2049-2017-21.jpg\n",
            "[%] File Downloaded !\n",
            "\n",
            "[%] Downloading Image #18 from https://i1.wp.com/fapservice.com/wp-content/uploads/2017/04/0004-2.jpg\n",
            "[%] File Downloaded !\n",
            "\n",
            "[%] Downloading Image #19 from http://www.movienewz.com/wp-content/uploads/2018/09/titans_poster-1.jpg\n",
            "[%] File Downloaded !\n",
            "\n",
            "[%] Downloading Image #20 from https://www.demilked.com/magazine/wp-content/uploads/2016/08/mars-recruitment-posters-nasa-2.jpg\n",
            "[%] File Downloaded !\n",
            "\n",
            "[%] Downloading Image #21 from http://www.movienewz.com/img/gallery/wild/posters/wild-movie-poster-1.jpg\n",
            "[%] File Downloaded !\n",
            "\n",
            "[%] Downloading Image #22 from http://www.newdvdreleasedates.com/images/posters/large/rio-2-2014-14.jpg\n",
            "[%] File Downloaded !\n",
            "\n",
            "\n",
            "\n",
            "[!!]Indexing page: 3\n",
            "\n",
            "[%] Indexed 10 Images on Page 3.\n",
            "\n",
            "===============================================\n",
            "\n",
            "[%] Downloading Image #23 from http://www.movienewz.com/img/gallery/inside-out/posters/inside_out_character_poster_1.jpg\n",
            "[%] File Downloaded !\n",
            "\n",
            "[%] Downloading Image #24 from https://i1.wp.com/fapservice.com/wp-content/uploads/2017/04/0004-2.jpg\n",
            "[%] File Downloaded !\n",
            "\n",
            "[%] Downloading Image #25 from http://www.newdvdreleasedates.com/images/posters/large/blade-runner-2049-2017-21.jpg\n",
            "[%] File Downloaded !\n",
            "\n",
            "[%] Downloading Image #26 from https://theindianschool.in/web/wp-content/uploads/2013/10/Save-Girl-Child_7-225x300.jpg\n",
            "[%] File Downloaded !\n",
            "\n",
            "[%] Downloading Image #27 from http://www.movienewz.com/wp-content/uploads/2018/09/titans_poster-1.jpg\n",
            "[%] File Downloaded !\n",
            "\n",
            "[%] Downloading Image #28 from http://www.movienewz.com/img/gallery/amazing-spiderman-2/posters/amazing_spider-man_2_movie_poster_3.jpg\n",
            "[%] File Downloaded !\n",
            "\n",
            "[%] Downloading Image #29 from http://www.movienewz.com/img/gallery/wild/posters/wild-movie-poster-1.jpg\n",
            "[%] File Downloaded !\n",
            "\n",
            "[%] Downloading Image #30 from http://www.newdvdreleasedates.com/images/posters/large/rio-2-2014-14.jpg\n",
            "[%] File Downloaded !\n",
            "\n",
            "\n",
            "\n",
            "[%] Done. Downloaded 30 images.\n",
            "\n",
            "===============================================\n",
            "\n"
          ],
          "name": "stdout"
        }
      ]
    },
    {
      "cell_type": "code",
      "metadata": {
        "id": "2eUhVW9hxFTa"
      },
      "source": [
        "import pandas as pd\n",
        "import matplotlib.pyplot as plt\n",
        "from skimage.io import imread\n",
        "from skimage.transform import resize\n",
        "import numpy as np\n",
        "import os\n",
        "import cv2"
      ],
      "execution_count": 5,
      "outputs": []
    },
    {
      "cell_type": "code",
      "metadata": {
        "id": "xyjQp492yHnR",
        "colab": {
          "base_uri": "https://localhost:8080/"
        },
        "outputId": "240f6362-bdfe-4883-a777-cd3569a06fe5"
      },
      "source": [
        "datadir= \"/content/image\"\n",
        "categories = ['Table', 'Posters']\n",
        "target=[]\n",
        "flat_data=[]\n",
        "for i in categories:\n",
        "  path = os.path.join(datadir,i)\n",
        "  print(path)\n",
        "  for img in os.listdir(path):\n",
        "    img_arr = imread(os.path.join(path,img))\n",
        "    gray_img = cv2.cvtColor(img_arr, cv2.COLOR_BGR2GRAY)\n",
        "    img_resize = resize(gray_img,(150,150,1)) \n",
        "    flat_data.append(np.ndarray.flatten(img_resize))\n",
        "    target.append(i)\n",
        "\n",
        "x = np.array(flat_data)\n",
        "y = np.array(target)"
      ],
      "execution_count": 6,
      "outputs": [
        {
          "output_type": "stream",
          "text": [
            "/content/image/Table\n",
            "/content/image/Posters\n"
          ],
          "name": "stdout"
        }
      ]
    },
    {
      "cell_type": "code",
      "metadata": {
        "id": "qG8y1BiYvbFm"
      },
      "source": [
        "df = pd.DataFrame(flat_data)\n",
        "df['Target']=target"
      ],
      "execution_count": 8,
      "outputs": []
    },
    {
      "cell_type": "code",
      "metadata": {
        "colab": {
          "base_uri": "https://localhost:8080/"
        },
        "id": "azOphhkmvrSf",
        "outputId": "8baaa485-dbd6-4781-f340-605103b9529d"
      },
      "source": [
        "df['Target'].value_counts()"
      ],
      "execution_count": 9,
      "outputs": [
        {
          "output_type": "execute_result",
          "data": {
            "text/plain": [
              "Posters    30\n",
              "Table      30\n",
              "Name: Target, dtype: int64"
            ]
          },
          "metadata": {
            "tags": []
          },
          "execution_count": 9
        }
      ]
    },
    {
      "cell_type": "code",
      "metadata": {
        "id": "h59FNynX2L8O"
      },
      "source": [
        "from sklearn.model_selection import train_test_split\n",
        "x_train,x_test,y_train,y_test = train_test_split(x,y,random_state=0,stratify=y)\n",
        "from sklearn.svm import SVC\n",
        "model = SVC()\n",
        "model.fit(x_train,y_train)\n",
        "y_pred = model.predict(x_test)"
      ],
      "execution_count": 12,
      "outputs": []
    },
    {
      "cell_type": "code",
      "metadata": {
        "colab": {
          "base_uri": "https://localhost:8080/"
        },
        "id": "WVPaMCIZwBE2",
        "outputId": "3d093876-9d07-4863-b29f-aa999ec00e89"
      },
      "source": [
        "from sklearn.metrics import accuracy_score,confusion_matrix,classification_report\n",
        "accuracy_score(y_pred,y_test)"
      ],
      "execution_count": 13,
      "outputs": [
        {
          "output_type": "execute_result",
          "data": {
            "text/plain": [
              "1.0"
            ]
          },
          "metadata": {
            "tags": []
          },
          "execution_count": 13
        }
      ]
    },
    {
      "cell_type": "code",
      "metadata": {
        "colab": {
          "base_uri": "https://localhost:8080/"
        },
        "id": "bxUvKiE_wEjr",
        "outputId": "14b35057-68f3-49ce-805b-24b849e591f2"
      },
      "source": [
        "confusion_matrix(y_pred,y_test)"
      ],
      "execution_count": 14,
      "outputs": [
        {
          "output_type": "execute_result",
          "data": {
            "text/plain": [
              "array([[8, 0],\n",
              "       [0, 7]])"
            ]
          },
          "metadata": {
            "tags": []
          },
          "execution_count": 14
        }
      ]
    },
    {
      "cell_type": "code",
      "metadata": {
        "colab": {
          "base_uri": "https://localhost:8080/"
        },
        "id": "nX9k0LE4wIpU",
        "outputId": "2e8d0db4-8891-471c-f67e-20786084e75a"
      },
      "source": [
        "from sklearn.model_selection import GridSearchCV\n",
        "model = SVC()\n",
        "param = {\n",
        "    'kernel':['linear','rbf','poly'],\n",
        "    'C':[0.1,1,10,100]\n",
        "}\n",
        "grid = GridSearchCV(model,param,cv=5)\n",
        "grid.fit(x_train,y_train)\n",
        "grid.best_params_"
      ],
      "execution_count": 15,
      "outputs": [
        {
          "output_type": "execute_result",
          "data": {
            "text/plain": [
              "{'C': 1, 'kernel': 'poly'}"
            ]
          },
          "metadata": {
            "tags": []
          },
          "execution_count": 15
        }
      ]
    },
    {
      "cell_type": "code",
      "metadata": {
        "id": "xR-O1kOmwNR6"
      },
      "source": [
        "SVC?"
      ],
      "execution_count": 16,
      "outputs": []
    },
    {
      "cell_type": "code",
      "metadata": {
        "id": "w0mIiwIFwTjA"
      },
      "source": [
        "model = SVC(C=0.1,kernel= 'linear')"
      ],
      "execution_count": 17,
      "outputs": []
    },
    {
      "cell_type": "code",
      "metadata": {
        "colab": {
          "base_uri": "https://localhost:8080/"
        },
        "id": "UqhbGas9wW-p",
        "outputId": "6cb7f31f-484f-48b2-95bb-335c7baf38e7"
      },
      "source": [
        "model.fit(x_train,y_train)\n",
        "y_pred = model.predict(x_test)\n",
        "from sklearn.metrics import accuracy_score,confusion_matrix,classification_report\n",
        "accuracy_score(y_pred,y_test)"
      ],
      "execution_count": 18,
      "outputs": [
        {
          "output_type": "execute_result",
          "data": {
            "text/plain": [
              "1.0"
            ]
          },
          "metadata": {
            "tags": []
          },
          "execution_count": 18
        }
      ]
    },
    {
      "cell_type": "code",
      "metadata": {
        "colab": {
          "base_uri": "https://localhost:8080/"
        },
        "id": "NN-_4NQOwYuf",
        "outputId": "4583b109-a84b-47e3-8bf3-4dc791d7473c"
      },
      "source": [
        "confusion_matrix(y_pred,y_test)"
      ],
      "execution_count": 19,
      "outputs": [
        {
          "output_type": "execute_result",
          "data": {
            "text/plain": [
              "array([[8, 0],\n",
              "       [0, 7]])"
            ]
          },
          "metadata": {
            "tags": []
          },
          "execution_count": 19
        }
      ]
    }
  ]
}